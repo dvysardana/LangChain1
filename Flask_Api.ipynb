{
 "cells": [
  {
   "cell_type": "markdown",
   "id": "28998487",
   "metadata": {},
   "source": [
    "# Flask based api to connect to SQLite database and handle api calls from Langchain"
   ]
  },
  {
   "cell_type": "markdown",
   "id": "87bc5823",
   "metadata": {},
   "source": [
    "## 0. Prerequisites/ Comments\n",
    "\n",
    "<br /> \n",
    "<font size=\"3\">\n",
    "    \n",
    "- This notebook contains code to create a Flask api which will run on port 5000 on localhost. It is assumed that no other server is running at this port on the localhost.\n",
    "\n",
    "<br />\n",
    "    \n",
    "- The code in this notebook must be run to get the server up and running at http://127.0.0.1:5000. The code for the other attached notebook 'LangChain' has a dependency on this server being up.\n",
    "\n",
    "<br />\n",
    "    \n",
    "- All the required packages have been mentioned in step 2. No other installations are required to run this notebook.\n",
    "\n",
    "<br />\n",
    "    \n",
    "- The student.db file (in the same folder) is the sqlite db file that has been created with example data. It contains two tables: students, subject_scores. \n",
    "This student.db file can be kept in the same folder as the python notebook to work. For reference, all the SQL statements to create the student.db have also been included in the notebook as commented out lines. Code to add rows to the table are included in the notebook 'LangChain' as commented out lines.\n",
    "    \n",
    "</font>"
   ]
  },
  {
   "cell_type": "markdown",
   "id": "f9db7dcb",
   "metadata": {},
   "source": [
    "## 1a. Running Instructions\n",
    "\n",
    "<br /> \n",
    "<font size=\"3\">\n",
    "1. All the cells can be run individually, or for similicity, from the menu, choose 'Kernel-> Restart  & Run All'\n",
    "After all the cells have run, the server can be checked to work fine at http://127.0.0.1:5000.\n",
    "</font>\n",
    "        \n",
    "## 1b. Testing Instructions\n",
    "\n",
    "<br /> \n",
    "<font size=\"3\">\n",
    "1. All routes in the app have been tested using Postman during development. Similar testing can be done using curl.\n",
    "</font>"
   ]
  },
  {
   "cell_type": "markdown",
   "id": "9c92f350",
   "metadata": {},
   "source": [
    "## 2. Install the required packages"
   ]
  },
  {
   "cell_type": "code",
   "execution_count": 1,
   "id": "4f640fa6",
   "metadata": {},
   "outputs": [],
   "source": [
    "!pip -q install flask\n",
    "!pip -q install flask_cors"
   ]
  },
  {
   "cell_type": "markdown",
   "id": "5651dcbf",
   "metadata": {},
   "source": [
    "## 3. import the required libraries"
   ]
  },
  {
   "cell_type": "code",
   "execution_count": 2,
   "id": "f959390e",
   "metadata": {},
   "outputs": [],
   "source": [
    "#Library to handle json format\n",
    "import json\n",
    "\n",
    "#SQLite database related libraries\n",
    "import sqlite3\n",
    "\n",
    "#Flask related libraries\n",
    "from flask import Flask, request, jsonify\n",
    "from flask_cors import CORS"
   ]
  },
  {
   "cell_type": "markdown",
   "id": "2d1b3277",
   "metadata": {},
   "source": [
    "## 4. Setup SQLite database and tables \n",
    "\n",
    "#### Note: For Postgres database, adapt step 4a to connect to the desired database"
   ]
  },
  {
   "cell_type": "markdown",
   "id": "9e7a2528",
   "metadata": {},
   "source": [
    "### 4a. Connect to the SQLite database and return a connection \n",
    "\n",
    "#### Note: For Postgres database, adapt this function to connect to the desired database"
   ]
  },
  {
   "cell_type": "code",
   "execution_count": 3,
   "id": "4dda1e7e",
   "metadata": {},
   "outputs": [],
   "source": [
    "def connect_to_db():\n",
    "    conn = None\n",
    "    try:\n",
    "        conn = sqlite3.connect('student.db')\n",
    "    except sqlite3.Error as e:\n",
    "        print(\"Error while connecting to SQLite database:\", e)\n",
    "    return conn"
   ]
  },
  {
   "cell_type": "markdown",
   "id": "e86ac152",
   "metadata": {},
   "source": [
    "### 4b. Create database tables for Students and Scores"
   ]
  },
  {
   "cell_type": "code",
   "execution_count": 4,
   "id": "8ca602d1",
   "metadata": {},
   "outputs": [],
   "source": [
    "def create_db_table(query):\n",
    "    try:\n",
    "        conn = connect_to_db()\n",
    "\n",
    "        conn.execute(query)\n",
    "\n",
    "        conn.commit()\n",
    "        print(\"Table created successfully\")\n",
    "    except:\n",
    "        print(\"Table creation failed\")\n",
    "    finally:\n",
    "        conn.close()\n",
    "\n"
   ]
  },
  {
   "cell_type": "markdown",
   "id": "cdf68c9e",
   "metadata": {},
   "source": [
    "### NOTE: Code below to create tables (commented out, only needed to run once in the beginning)"
   ]
  },
  {
   "cell_type": "code",
   "execution_count": 5,
   "id": "e9b80aab",
   "metadata": {},
   "outputs": [],
   "source": [
    "#Create the Students db table\n",
    "# students_query = '''\n",
    "#             CREATE TABLE students (\n",
    "#                 id INTEGER PRIMARY KEY NOT NULL,\n",
    "#                 first_name TEXT NOT NULL,\n",
    "#                 last_name TEXT NOT NULL\n",
    "#             );\n",
    "#         '''\n",
    "# create_db_table(students_query)\n",
    "\n",
    "\n",
    "#Code to create the subject_scores table\n",
    "# subject_scores_query = '''\n",
    "#             CREATE TABLE subject_scores (\n",
    "#                 id INTEGER PRIMARY KEY NOT NULL,\n",
    "#                 st_id INTEGER NOT NULL,\n",
    "#                 subject TEXT NOT NULL,\n",
    "#                 score DOUBLE NOT NULL,\n",
    "#                 FOREIGN KEY(st_id) REFERENCES students(id)\n",
    "#             );\n",
    "#         '''\n",
    "# create_db_table(subject_scores_query)\n",
    "\n",
    "\n"
   ]
  },
  {
   "cell_type": "markdown",
   "id": "1e8f1cf7",
   "metadata": {},
   "source": [
    "## 5. Functions to handle api calls"
   ]
  },
  {
   "cell_type": "markdown",
   "id": "b28313c9",
   "metadata": {},
   "source": [
    "### 5a. Function to handle api call to insert a new student to the students table\n",
    "\n",
    "#### Note\n",
    "\n",
    "<br /> \n",
    "<font size=\"3\">\n",
    "- This function is used to test the api, and is not directly used by from the Langchain code\n",
    "</font>"
   ]
  },
  {
   "cell_type": "code",
   "execution_count": 6,
   "id": "dc52d704",
   "metadata": {},
   "outputs": [],
   "source": [
    "def insert_student(user):\n",
    "    \"\"\"\n",
    "    Code to handle the POST api call to insert a new student.\n",
    "\n",
    "    Args:\n",
    "        score: A dictionary containing the record of student to be inserted in the database table\n",
    "\n",
    "    Returns:\n",
    "        dict: Dictionary containing the inserted student record.\n",
    "    \"\"\"\n",
    "    inserted_student = {}\n",
    "    try:\n",
    "        conn = connect_to_db()\n",
    "        cur = conn.cursor()\n",
    "        cur.execute(\"INSERT INTO students (id, first_name, last_name) VALUES (?, ?, ?)\", (user['id'],   user['first_name'], user['last_name']) )\n",
    "        conn.commit()\n",
    "        inserted_student = get_student_by_id(cur.lastrowid)\n",
    "    except:\n",
    "        conn().rollback()\n",
    "\n",
    "    finally:\n",
    "        conn.close()\n",
    "\n",
    "    return inserted_student"
   ]
  },
  {
   "cell_type": "markdown",
   "id": "08e27c2f",
   "metadata": {},
   "source": [
    "### 5b. Function to handle api call to insert a new score to the subject_scores table\n",
    "\n",
    "#### Note\n",
    "\n",
    "<br /> \n",
    "<font size=\"3\">\n",
    "\n",
    "- This function is used to test the api, and is not directly used by from the Langchain code\n",
    "    \n",
    "</font>"
   ]
  },
  {
   "cell_type": "code",
   "execution_count": 7,
   "id": "e7ad51e7",
   "metadata": {},
   "outputs": [],
   "source": [
    "def insert_score(score):\n",
    "    \"\"\"\n",
    "    Code to handle the POST api call to insert a score for a particular student.\n",
    "\n",
    "    Args:\n",
    "        score: A dictionary containing the record of score to be inserted in the database table\n",
    "\n",
    "    Returns:\n",
    "        dict: Dictionary containing the inserted score record.\n",
    "    \"\"\"\n",
    "    inserted_score = {}\n",
    "    try:\n",
    "        conn = connect_to_db()\n",
    "        cur = conn.cursor()\n",
    "        cur.execute(\"INSERT INTO subject_scores (id, st_id, subject, score) VALUES (?, ?, ?, ?)\", (score['id'],   score['st_id'], score['subject'], score['score']) )\n",
    "        conn.commit()\n",
    "        inserted_score = get_score_by_id(cur.lastrowid)\n",
    "    except:\n",
    "        conn().rollback()\n",
    "\n",
    "    finally:\n",
    "        conn.close()\n",
    "\n",
    "    return inserted_score"
   ]
  },
  {
   "cell_type": "code",
   "execution_count": 8,
   "id": "9ec28092",
   "metadata": {},
   "outputs": [],
   "source": [
    "student = {\n",
    "    \"id\": \"1\",\n",
    "    \"first_name\": \"John\",\n",
    "    \"last_name\": \"Doe\",\n",
    "    \"subject\": \"MAths\",\n",
    "    \"score\": \"10\"\n",
    "}"
   ]
  },
  {
   "cell_type": "markdown",
   "id": "26f61eb3",
   "metadata": {},
   "source": [
    "### 5c. Function to handle api call to get all students as a GET request\n",
    "\n",
    "#### Note\n",
    "\n",
    "<br /> \n",
    "<font size=\"3\">\n",
    "- This function is used to test the api, and is not directly used by from the Langchain code\n",
    "</font>"
   ]
  },
  {
   "cell_type": "code",
   "execution_count": 9,
   "id": "f6c01189",
   "metadata": {},
   "outputs": [],
   "source": [
    "def get_students():\n",
    "    \"\"\"\n",
    "    Code to handle the GET api call to get all student details\n",
    "\n",
    "    Args:\n",
    "        None\n",
    "\n",
    "    Returns:\n",
    "        dict: Dictionary containing all student details.\n",
    "    \"\"\"\n",
    "    users = []\n",
    "    try:\n",
    "        conn = connect_to_db()\n",
    "        conn.row_factory = sqlite3.Row\n",
    "        cur = conn.cursor()\n",
    "        cur.execute(\"SELECT * FROM students\")\n",
    "        rows = cur.fetchall()\n",
    "\n",
    "        # convert row objects to dictionary\n",
    "        for i in rows:\n",
    "            user = {}\n",
    "            user[\"id\"] = i[\"id\"]\n",
    "            user[\"first_name\"] = i[\"first_name\"]\n",
    "            user[\"last_name\"] = i[\"last_name\"]\n",
    "            users.append(user)\n",
    "\n",
    "    except:\n",
    "        users = []\n",
    "\n",
    "    return users\n",
    "\n",
    "\n"
   ]
  },
  {
   "cell_type": "markdown",
   "id": "af295db9",
   "metadata": {},
   "source": [
    "### 5d. Function to handle api call to get a student details as a GET request\n",
    "\n",
    "#### Note\n",
    "\n",
    "<br /> \n",
    "<font size=\"3\">\n",
    "    \n",
    "- This function is used to test the api, and is not directly used by from the Langchain code\n",
    "    \n",
    "</font>"
   ]
  },
  {
   "cell_type": "code",
   "execution_count": 10,
   "id": "f3a874de",
   "metadata": {},
   "outputs": [],
   "source": [
    "def get_student_by_id(student_id):\n",
    "    \"\"\"\n",
    "    Code to handle the GET api call to get a student by its id\n",
    "\n",
    "    Args:\n",
    "        student_id: id for the student for which details are needed.\n",
    "\n",
    "    Returns:\n",
    "        dict: Dictionary containing student details with the id.\n",
    "    \"\"\"\n",
    "    user = {}\n",
    "    try:\n",
    "        conn = connect_to_db()\n",
    "        conn.row_factory = sqlite3.Row\n",
    "        cur = conn.cursor()\n",
    "        cur.execute(\"SELECT * FROM students WHERE id = ?\", \n",
    "                       (student_id,))\n",
    "        row = cur.fetchone()\n",
    "\n",
    "        # convert row object to dictionary\n",
    "        user[\"id\"] = row[\"id\"]\n",
    "        user[\"first_name\"] = row[\"first_name\"]\n",
    "        user[\"last_name\"] = row[\"last_name\"]\n",
    "    except:\n",
    "        user = {}\n",
    "\n",
    "    return user"
   ]
  },
  {
   "cell_type": "markdown",
   "id": "16f6354c",
   "metadata": {},
   "source": [
    "### 5e. Functions to handle the api call to get query results based on input query\n",
    "\n",
    "#### Note\n",
    "\n",
    "<br /> \n",
    "<font size=\"3\">\n",
    "\n",
    "- The input query is in json format\n",
    "- The response is in json format containing the query output\n",
    "- Support for two different types of queries is added: Insert and Select\n",
    "- For all other unsupported queries, a graceful message is returned.\n",
    "    \n",
    "</font>"
   ]
  },
  {
   "cell_type": "code",
   "execution_count": 11,
   "id": "bd5e1c80",
   "metadata": {},
   "outputs": [],
   "source": [
    "def select_handler(cur):\n",
    "    \"\"\"\n",
    "    Code to handle a SELECT query statement response.\n",
    "    The output rows and columns are composed into json format and returned.\n",
    "\n",
    "    Args:\n",
    "        cur: cursor for the database to fetch query results.\n",
    "\n",
    "    Returns:\n",
    "        json: The SELECT query response in json formate.\n",
    "    \"\"\"\n",
    "    #Fetch Data\n",
    "    columns = [column[0] for column in cur.description]\n",
    "    data = [dict(zip(columns, row)) for row in cur.fetchall()]\n",
    "    #Convert to JSON\n",
    "    json_data = json.dumps(data, indent=4)\n",
    "    return json_data\n",
    "\n",
    "def insert_handler(cur):\n",
    "    \"\"\"\n",
    "    Code to handle an INSERT query statement response.\n",
    "\n",
    "    Args:\n",
    "        cur: cursor for the database to fetch query results.\n",
    "\n",
    "    Returns:\n",
    "        json: The status in json format indicating that the records have been successfully added.\n",
    "    \"\"\"\n",
    "    json_data = {\"status\": \"Successfully added records.\"}\n",
    "    return json_data\n",
    "\n",
    "def unsupported_handler(cur):\n",
    "    \"\"\"\n",
    "    Code to handle an unsupported query statement response.\n",
    "\n",
    "    Args:\n",
    "        cur: cursor for the database to fetch query results.\n",
    "\n",
    "    Returns:\n",
    "        json: The status in json format indicating that the operation is currently not supported by\n",
    "              the database.\n",
    "    \"\"\"\n",
    "    json_data = {\"status\": \"This operation is currently not supported by the system.\"}\n",
    "    return json_data    \n",
    "\n",
    "def get_handler_type(query):\n",
    "    \"\"\"\n",
    "    Code to return the type of query: INSERT, SELECT, or unsupported type\n",
    "\n",
    "    Args:\n",
    "        query: input query for which the type needs to be determined.\n",
    "\n",
    "    Returns:\n",
    "        string: String denoting the type of the query\n",
    "    \"\"\"\n",
    "    if query.lower().startswith(\"insert\"):\n",
    "        return \"insert\"\n",
    "    elif query.lower().startswith(\"select\"):\n",
    "        return \"select\"\n",
    "    else:\n",
    "        return \"unsupported\"\n",
    "    \n",
    "#A dictionary containing handler function names per supported SQL statement type.\n",
    "handlers = {\n",
    "    \"insert\": insert_handler, \n",
    "    \"select\": select_handler,\n",
    "    \"unsupported\": unsupported_handler\n",
    "}\n",
    "\n",
    "def run_student_query(query):\n",
    "    \"\"\"\n",
    "    Code to run a student's query and return output as json.\n",
    "\n",
    "    Args:\n",
    "        query: input query which needs to be executed.\n",
    "\n",
    "    Returns:\n",
    "        json: Input query response in json format.\n",
    "    \"\"\"\n",
    "    json_data = {}\n",
    "    try:\n",
    "        conn = connect_to_db()\n",
    "        cur = conn.cursor()\n",
    "        q = query['qstring']\n",
    "        print(\"Before executing query.\")\n",
    "        cur.execute(q)\n",
    "        print(\"After executing query. \")\n",
    "        conn.commit()\n",
    "        \n",
    "        json_data = handlers[get_handler_type(q)](cur)\n",
    "                \n",
    "    except Exception as e:\n",
    "        print(repr(e))\n",
    "        conn().rollback()\n",
    "\n",
    "    finally:\n",
    "        cur.close()\n",
    "        conn.close()\n",
    "    return json_data\n"
   ]
  },
  {
   "cell_type": "markdown",
   "id": "7db811cd",
   "metadata": {},
   "source": [
    "## 6. Create Flask routes for GET and POST requests"
   ]
  },
  {
   "cell_type": "code",
   "execution_count": 12,
   "id": "17501eeb",
   "metadata": {},
   "outputs": [],
   "source": [
    "app = Flask(__name__)\n",
    "CORS(app, resources={r\"/*\": {\"origins\": \"*\"}})\n",
    "\n",
    "@app.route('/')  # Creating a route decorator for the root URL.\n",
    "def welcome():  # Defining a function to handle requests to the root URL.\n",
    "    return \"Hello, Welcome to Student API\"  # Returning a welcome message when accessing the root URL.\n",
    "\n",
    "@app.route('/api/students', methods=['GET']) # Creating a GET request route to get all students.\n",
    "def api_get_students():\n",
    "    return jsonify(get_students())\n",
    "\n",
    "@app.route('/api/student/<student_id>', methods=['GET']) # Creating a GET request route to get student by id.\n",
    "def api_get_student(student_id):\n",
    "    return jsonify(get_student_by_id(student_id))\n",
    "\n",
    "@app.route('/api/student/add',  methods = ['POST']) # Creating a POST request route to add a student.\n",
    "def api_add_student():\n",
    "    student = request.get_json()\n",
    "    return jsonify(insert_student(student))\n",
    "\n",
    "@app.route('/api/student/query',  methods = ['POST']) # Creating a POST request route to handle a query in json format.\n",
    "def api_run_query():\n",
    "    query = request.get_json()\n",
    "    return run_student_query(query)"
   ]
  },
  {
   "attachments": {
    "image.png": {
     "image/png": "[encoded data removed]"
    }
   },
   "cell_type": "markdown",
   "id": "49bb50b0",
   "metadata": {},
   "source": [
    "## 7. Run the Flask app\n",
    "\n",
    "#### Note:\n",
    "\n",
    "- Once the below cell is run, the app will run at: http://127.0.0.1:5000 (snapshot below)\n",
    "![image.png](attachment:image.png)"
   ]
  },
  {
   "cell_type": "code",
   "execution_count": null,
   "id": "357430ff",
   "metadata": {},
   "outputs": [
    {
     "name": "stdout",
     "output_type": "stream",
     "text": [
      " * Serving Flask app '__main__'\n",
      " * Debug mode: off\n"
     ]
    },
    {
     "name": "stderr",
     "output_type": "stream",
     "text": [
      "WARNING: This is a development server. Do not use it in a production deployment. Use a production WSGI server instead.\n",
      " * Running on http://127.0.0.1:5000\n",
      "Press CTRL+C to quit\n"
     ]
    }
   ],
   "source": [
    "if __name__ == \"__main__\":\n",
    "    #app.run(debug=True)\n",
    "    app.run() #run app"
   ]
  }
 ],
 "metadata": {
  "kernelspec": {
   "display_name": "Python 3 (ipykernel)",
   "language": "python",
   "name": "python3"
  },
  "language_info": {
   "codemirror_mode": {
    "name": "ipython",
    "version": 3
   },
   "file_extension": ".py",
   "mimetype": "text/x-python",
   "name": "python",
   "nbconvert_exporter": "python",
   "pygments_lexer": "ipython3",
   "version": "3.11.5"
  }
 },
 "nbformat": 4,
 "nbformat_minor": 5
}
