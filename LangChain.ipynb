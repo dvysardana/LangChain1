{
 "cells": [
  {
   "cell_type": "markdown",
   "id": "b10c2c75",
   "metadata": {},
   "source": [
    "# Using LangChain to handle Professor queries about students"
   ]
  },
  {
   "cell_type": "markdown",
   "id": "d32936a6",
   "metadata": {},
   "source": [
    "### 0. Prerequisites/Comments\n",
    "\n",
    "<br /> \n",
    "<font size=\"3\">\n",
    "    \n",
    "- This notebook makes use of a custom api who code to get a SQL query results. The code for this api has been made available in the attached notebook titled Flask_APi. It is assumed that all the cells in the  Flask API notebook have been and the api is up and running at: http://127.0.0.1:5000\n",
    "<br/>            \n",
    "- This notebook makes use of an openai model. It is assumed that an open api key is available in order to run step 5 in this notebook.\n",
    "<br/>\n",
    "\n",
    "- The code in this notebook has been tested using a Python 3 kernel.\n",
    "<br/>\n",
    "- All the installers are mentioned in step 1. No other installation is required.\n",
    "<br/>\n",
    "- Code makes use of SQLite database instead of Postgres as it does not need any installation to work  and demonstrates all the Langchain capabilities well. In production settings, this code can be easily adapted to use Postgres.\n",
    "<br/>\n",
    "- The student.db file (in the same folder) is the sqlite db file that has been created with example data. It contains two tables: students, subject_scores. \n",
    "This student.db file can be kept in the same folder as the python notebook to work. For reference, all the SQL statements to create the student.db have also been included in the notebook as commented out lines. Code to add rows to the table are included in the notebook 'LangChain' as commented out lines.\n",
    "    \n",
    "<br /> \n",
    "</font>"
   ]
  },
  {
   "cell_type": "markdown",
   "id": "35a9599f",
   "metadata": {},
   "source": [
    "## 1a. Running Instructions\n",
    "\n",
    "<br /> \n",
    "<font size=\"3\">\n",
    "1. All the cells can be run individually, or for similicity, from the menu, choose 'Kernel-> Restart  & Run All'. Step 4 will require a manual input of openapi key.\n",
    "</font>\n",
    "\n",
    "## 1b. Testing Instructions\n",
    "<br /> \n",
    "<font size=\"3\">\n",
    "1. A set of questions have been provided at the end of the notebook in section 11, which can be used to invoke the LangChain developed in this code. More similar questions can be created to test the chain.\n",
    "\n",
    "</font>"
   ]
  },
  {
   "cell_type": "markdown",
   "id": "859275f1",
   "metadata": {},
   "source": [
    "## 2. Supported Features\n",
    "\n",
    "<br /> \n",
    "<font size=\"3\">\n",
    "    \n",
    "1. Used LangChain to understand professor's question's intent from text question.\n",
    "\n",
    "<br />\n",
    "    \n",
    "2. Added support for following question types:\n",
    "    - \"Add a new student with a given name and id\"\n",
    "    - \"Add a score of x for a student with name Y for a subject Z\"\n",
    "    - \"What subjects a student with name Y take?\"\n",
    "    - \"Summarize all student scores in a specific subject. Display mean and median scores.\"\n",
    "    - \"Rank students based on their scores in a particular subject\"\n",
    "\n",
    "<br />\n",
    "    \n",
    "3. Based on the extracted intent, make API calls to an API created in notebook 'Flask_api' which queries the SQLite database and returns response.\n",
    "    \n",
    "<br />\n",
    "    \n",
    "4. Convert the SQL response from Flask api into natural language response.\n",
    "\n",
    "<br />\n",
    "    \n",
    "5. Automate the process using a single SQL query chain that can be invoked with a question in a one line code.\n",
    "</font>"
   ]
  },
  {
   "cell_type": "markdown",
   "id": "3d4a0538",
   "metadata": {},
   "source": [
    "## 3. Install the required packages"
   ]
  },
  {
   "cell_type": "code",
   "execution_count": 1,
   "id": "6eac2225",
   "metadata": {},
   "outputs": [
    {
     "name": "stdout",
     "output_type": "stream",
     "text": [
      "Note: you may need to restart the kernel to use updated packages.\n"
     ]
    }
   ],
   "source": [
    "pip install --upgrade --quiet  langchain langchain-community langchain-openai"
   ]
  },
  {
   "cell_type": "markdown",
   "id": "66201fb7",
   "metadata": {},
   "source": [
    "## 4. Import the required libraries"
   ]
  },
  {
   "cell_type": "code",
   "execution_count": 2,
   "id": "fad3c140",
   "metadata": {},
   "outputs": [],
   "source": [
    "#Library for querying the Flask api\n",
    "import requests\n",
    "\n",
    "#Library to access the open api's gpt-3.5-turbo LLM as a service\n",
    "import openai\n",
    "\n",
    "#Misc Libraries\n",
    "import os\n",
    "import json\n",
    "from getpass import getpass\n",
    "\n",
    "#Library to access the sqlite3 database\n",
    "import sqlite3\n",
    "\n",
    "#Langchain libraries\n",
    "from langchain_community.utilities import SQLDatabase\n",
    "from langchain.chains import create_sql_query_chain\n",
    "from langchain_openai import ChatOpenAI\n",
    "from langchain_core.output_parsers import JsonOutputParser\n",
    "\n",
    "from langchain_core.output_parsers import StrOutputParser\n",
    "from langchain_core.prompts import PromptTemplate\n",
    "from langchain_core.runnables import RunnablePassthrough"
   ]
  },
  {
   "cell_type": "markdown",
   "id": "f5fc49f3",
   "metadata": {},
   "source": [
    "## 5. Connect to openai\n",
    "\n",
    "#### Note: An openai api key will be needed for this step"
   ]
  },
  {
   "cell_type": "code",
   "execution_count": 3,
   "id": "3d599c92",
   "metadata": {},
   "outputs": [
    {
     "name": "stdout",
     "output_type": "stream",
     "text": [
      "········\n"
     ]
    }
   ],
   "source": [
    "openapi_key = getpass()\n",
    "os.environ['OPENAI_API_KEY'] = openapi_key"
   ]
  },
  {
   "cell_type": "markdown",
   "id": "31a10b8b",
   "metadata": {},
   "source": [
    "## 6. Test the SQLite Database and tables\n",
    "\n",
    "<br /> \n",
    "<font size=\"3\">\n",
    "    \n",
    "Note:\n",
    "- SQLite database has been used in this assignment instead of Postgres as it does not need any installation for this notebook to work and demonstrates all the Langchain capabilities well.\n",
    "\n",
    "<br />\n",
    "    \n",
    "- In a production setting, Postgres database can be easily adapted to be used in this notebook by updating the db variable. Rest all the python code will remain the same.\n",
    "    \n",
    "</font>"
   ]
  },
  {
   "cell_type": "code",
   "execution_count": 4,
   "id": "f664667b",
   "metadata": {},
   "outputs": [
    {
     "name": "stdout",
     "output_type": "stream",
     "text": [
      "sqlite\n",
      "['students', 'subject_scores']\n"
     ]
    },
    {
     "data": {
      "text/plain": [
       "\"[(1, 'John', 'Smith'), (2, 'Jane', 'Doe'), (3, 'Adam', 'Krebs'), (4, 'Julia', 'Chen'), (5, 'Mike', 'Wang'), (6, 'Justin', 'Arnold'), (7, 'Kate', 'Schlif'), (8, 'June', 'Al'), (9, 'Kim', 'Roland')]\""
      ]
     },
     "execution_count": 4,
     "metadata": {},
     "output_type": "execute_result"
    }
   ],
   "source": [
    "# Specify the database to connect to\n",
    "db = SQLDatabase.from_uri(\"sqlite:///student.db\")\n",
    "\n",
    "print(db.dialect)  # Database type\n",
    "print(db.get_usable_table_names())  # List of usable table names\n",
    "\n",
    "# Execute a test SQL statement from the students table\n",
    "db.run(\"SELECT * FROM students LIMIT 10;\")"
   ]
  },
  {
   "cell_type": "markdown",
   "id": "20fd5284",
   "metadata": {},
   "source": [
    "## 7. Create a SQL query chain using Langchain\n",
    "\n",
    "<br /> \n",
    "<font size=\"3\">\n",
    "    \n",
    "### Note:\n",
    "\n",
    "- gpt-3.5-turbo model from open ai is being used to understand the intent of the input queries.\n",
    "    \n",
    "- A temperature setting of 0 is used because we want to the model to have low creativity and have predictable ouput for the same queries.\n",
    "    \n",
    "- A sql query chain is created using the llm as well as the sqlite database.\n",
    "    \n",
    "</font>"
   ]
  },
  {
   "cell_type": "code",
   "execution_count": 5,
   "id": "666fd122",
   "metadata": {},
   "outputs": [],
   "source": [
    "llm = ChatOpenAI(model=\"gpt-3.5-turbo\", temperature=0)\n",
    "chain = create_sql_query_chain(llm, db)"
   ]
  },
  {
   "cell_type": "markdown",
   "id": "a9a4dcf0",
   "metadata": {},
   "source": [
    "## 8. Manually test the chain to understand intent from text and generate queries\n",
    "\n",
    "<br /> \n",
    "<font size=\"3\">\n",
    "    \n",
    "#### Note: \n",
    "\n",
    "- The chain from step 5 can be invoked to generate a sql statement which can be then used to get a response from a Flask api manually.\n",
    "    \n",
    "- Different types of queries (some commented below) are used to test the system manually\n",
    "    \n",
    "</font>"
   ]
  },
  {
   "cell_type": "markdown",
   "id": "d0baa129",
   "metadata": {},
   "source": [
    "## 8a. Invoke chain to generate a sql query\n",
    "\n",
    "<br /> \n",
    "<font size=\"3\">\n",
    "    \n",
    "#### Note:\n",
    "\n",
    "- Below commented queries were used to create records in the tables and do some basic querying. They are made available here for testing purposes.\n",
    "- Uncomment on an as need basis\n",
    "- A query to check total number of students has been uncommented for demp purpose.\n",
    "- The chain outputs a generated query based on the input question.\n",
    "  \n",
    "</font>\n"
   ]
  },
  {
   "cell_type": "code",
   "execution_count": 6,
   "id": "62b4458b",
   "metadata": {},
   "outputs": [
    {
     "name": "stdout",
     "output_type": "stream",
     "text": [
      "SELECT COUNT(id) AS total_students FROM students;\n"
     ]
    }
   ],
   "source": [
    "#Add new Students\n",
    "#sudent.db contains this data already. Uncomment only if creating a new db\n",
    "#response = chain.invoke({\"question\": \"Add a new student named John Smith with ID 1. Limit to only one query. Add None for empty columns\"})\n",
    "#response = chain.invoke({\"question\": \"Add a new student named Jane Doe with ID 2. Limit to only one query. Add None for empty columns\"})\n",
    "#response = chain.invoke({\"question\": \"Add a new student named Adam Krebs with ID 3. Limit to only one query. Add None for empty columns\"})\n",
    "#response = chain.invoke({\"question\": \"Add a new student named Julia Chen with ID 4. Limit to only one query. Add None for empty columns\"})\n",
    "#response = chain.invoke({\"question\": \"Add a new student named Mike Wang with ID 5. Limit to only one query. Add None for empty columns\"})\n",
    "#response = chain.invoke({\"question\": \"Add a new student named Justin Arnold with ID 6. Limit to only one query. Add None for empty columns\"})\n",
    "\n",
    "\n",
    "#Add new scores\n",
    "#sudent.db contains this data already. Uncomment only if creating a new db\n",
    "#response = chain.invoke({\"question\": \"Add a score of 90 for John Smith in Math. Autogenerate id as one more than the largest id\"})\n",
    "#response = chain.invoke({\"question\": \"Add a score of 81 for John Smith in Physics. Autogenerate id as one more than the largest id\"})\n",
    "#response = chain.invoke({\"question\": \"Add a new score of 84 for Jane Doe in Physics. Autogenerate id as one more than the largest id.\"})\n",
    "#response = chain.invoke({\"question\": \"Add a new score of 94 for Adam Krebs in Math. Autogenerate id as one more than the largest id.\"})\n",
    "#response = chain.invoke({\"question\": \"Add a new score of 84 for Julia Chen in Chemistry. Autogenerate id as one more than the largest id.\"})\n",
    "#response = chain.invoke({\"question\": \"Add a new score of 73 for Mike Wang in Chemistry. Autogenerate id as one more than the largest id.\"})\n",
    "#response = chain.invoke({\"question\": \"Add a new score of 83 for Justin Arnold in Physics. Autogenerate id as one more than the largest id.\"})\n",
    "\n",
    "#Check questions about which subjects a specific student took\n",
    "#response = chain.invoke({\"question\": \"What subjects did John Smith take?\"})\n",
    "\n",
    "\n",
    "#Check questions about summarizing scores\n",
    "#response = chain.invoke({\"question\": \"Summarize all student scores in Physics. Show mean and median scores.\"})\n",
    "\n",
    "\n",
    "#Check total number of students\n",
    "gen_query = chain.invoke({\"question\": \"How many students are there?\"})\n",
    "\n",
    "print(gen_query)"
   ]
  },
  {
   "cell_type": "markdown",
   "id": "75b16858",
   "metadata": {},
   "source": [
    "## 8b. Manually call the Flask based api to get results of the query generated in 6a.\n",
    "\n",
    "<br /> \n",
    "<font size=\"3\">\n",
    "    \n",
    "#### Note \n",
    "\n",
    "- The api must be running at port 5000 using the attached notebook DwelFi_Flask_app.\n",
    "- The api is queried using a POST method.\n",
    "- An input json containing the generated query is passed to the api call.\n",
    "- The api returns the query output as json content.\n",
    "    \n",
    "</font>"
   ]
  },
  {
   "cell_type": "code",
   "execution_count": 7,
   "id": "bda6975c",
   "metadata": {},
   "outputs": [],
   "source": [
    "def query_api(query):\n",
    "    data={\"qstring\":query}\n",
    "    json_data = json.dumps(data)\n",
    "    r = requests.post(\n",
    "        \"http://127.0.0.1:5000/api/student/query\",\n",
    "        data=json_data,\n",
    "        headers={\"Content-Type\": \"application/json\"}\n",
    "        \n",
    "    )\n",
    "    #print(\"Generated Query is\", query)\n",
    "    #print(\"Query execution result is\", r.text)\n",
    "    return r.text"
   ]
  },
  {
   "cell_type": "code",
   "execution_count": 8,
   "id": "c2331cc4",
   "metadata": {},
   "outputs": [
    {
     "name": "stdout",
     "output_type": "stream",
     "text": [
      "[\n",
      "    {\n",
      "        \"total_students\": 9\n",
      "    }\n",
      "]\n"
     ]
    }
   ],
   "source": [
    "#Get query result from api\n",
    "query_result = query_api(gen_query)\n",
    "print(query_result)"
   ]
  },
  {
   "cell_type": "code",
   "execution_count": 9,
   "id": "5c651466",
   "metadata": {},
   "outputs": [
    {
     "name": "stdout",
     "output_type": "stream",
     "text": [
      "[(9,)]\n"
     ]
    }
   ],
   "source": [
    "#Verify that the query result from api matches with results from directly querying the database\n",
    "verify_query_result = db.run(gen_query)\n",
    "print(verify_query_result)"
   ]
  },
  {
   "cell_type": "markdown",
   "id": "4671676a",
   "metadata": {},
   "source": [
    "## 9. Automatic Execution of generated SQL queries\n",
    "\n",
    "<br /> \n",
    "<font size=\"3\">\n",
    "    \n",
    "#### Note:\n",
    "\n",
    "- Set up a chain with three automated components:\n",
    "  * Generate query (write_query)\n",
    "  * Use query to get response from api call (execute_query)\n",
    "  * Formate the api call's ouput in proper format to display output (parser)\n",
    "    \n",
    "</font>"
   ]
  },
  {
   "cell_type": "code",
   "execution_count": 10,
   "id": "559ac119",
   "metadata": {},
   "outputs": [
    {
     "data": {
      "text/plain": [
       "[{'total_students': 9}]"
      ]
     },
     "execution_count": 10,
     "metadata": {},
     "output_type": "execute_result"
    }
   ],
   "source": [
    "#Create an automated chain\n",
    "execute_query = query_api\n",
    "write_query = create_sql_query_chain(llm, db)\n",
    "parser = JsonOutputParser()\n",
    "chain = write_query | execute_query | parser\n",
    "chain.invoke({\"question\": \"How many students are there?\"})"
   ]
  },
  {
   "cell_type": "markdown",
   "id": "69d63d09",
   "metadata": {},
   "source": [
    "## 10. Answering back in Natural Language\n",
    "\n",
    "<br /> \n",
    "<font size=\"3\">\n",
    "    \n",
    "#### Note:\n",
    "\n",
    "- Set up a prompt and a chain to feed query output to  an llm to generate response in natural language.\n",
    "- Further, create one chain containing all the components to automate the whole process.\n",
    "    \n",
    "</font>"
   ]
  },
  {
   "cell_type": "code",
   "execution_count": 11,
   "id": "0551b37f",
   "metadata": {},
   "outputs": [],
   "source": [
    "answer_prompt = PromptTemplate.from_template(\n",
    "    \"\"\"Based on the user's question, the corresponding SQL query, and the SQL result, answer the user's question.\n",
    "\n",
    "Question: {question}\n",
    "SQLQuery: {query}\n",
    "SQLResult: {result}\n",
    "Answer: \"\"\"\n",
    ")\n",
    "\n",
    "# Chain to generate answers using the above prompt\n",
    "answer = answer_prompt | llm | StrOutputParser()\n",
    "\n",
    "chain = (\n",
    "    {\"query\": write_query, \"result\": write_query | execute_query, \"question\": RunnablePassthrough()} \n",
    "    | answer\n",
    ")\n"
   ]
  },
  {
   "cell_type": "markdown",
   "id": "a4de8b65",
   "metadata": {},
   "source": [
    "## 11. Questions to test the constructed chain for answering natural language questions"
   ]
  },
  {
   "cell_type": "markdown",
   "id": "259a393e",
   "metadata": {},
   "source": [
    "## Question to check no. of students in the course"
   ]
  },
  {
   "cell_type": "code",
   "execution_count": 12,
   "id": "81467bdd",
   "metadata": {},
   "outputs": [
    {
     "data": {
      "text/plain": [
       "'There are 9 students in the database.'"
      ]
     },
     "execution_count": 12,
     "metadata": {},
     "output_type": "execute_result"
    }
   ],
   "source": [
    "chain.invoke({\"question\": \"How many students are there?\"})"
   ]
  },
  {
   "cell_type": "markdown",
   "id": "5f7bda27",
   "metadata": {},
   "source": [
    "## Question to check the subjects taken by a specific student"
   ]
  },
  {
   "cell_type": "code",
   "execution_count": 13,
   "id": "0bcc574b",
   "metadata": {},
   "outputs": [
    {
     "data": {
      "text/plain": [
       "'John Smith has taken Math and Physics subjects.'"
      ]
     },
     "execution_count": 13,
     "metadata": {},
     "output_type": "execute_result"
    }
   ],
   "source": [
    "chain.invoke({\"question\": \"What subjects have been taken by John Smith?\"})"
   ]
  },
  {
   "cell_type": "markdown",
   "id": "42459f4e",
   "metadata": {},
   "source": [
    "## Question to summarize all student scores in a particular subject"
   ]
  },
  {
   "cell_type": "code",
   "execution_count": 14,
   "id": "18680aa8",
   "metadata": {},
   "outputs": [
    {
     "data": {
      "text/plain": [
       "'The mean score of all student scores in Physics is 83.0, and the median score is 84.0.'"
      ]
     },
     "execution_count": 14,
     "metadata": {},
     "output_type": "execute_result"
    }
   ],
   "source": [
    "chain.invoke({\"question\": \"Summarize all student scores in Physics. Show mean and median scores.\"})"
   ]
  },
  {
   "cell_type": "markdown",
   "id": "44c7a929",
   "metadata": {},
   "source": [
    "## Question to add a new student to the database"
   ]
  },
  {
   "cell_type": "code",
   "execution_count": 19,
   "id": "a716df8a",
   "metadata": {},
   "outputs": [
    {
     "data": {
      "text/plain": [
       "'The new student named Jack Mumby with ID 10 has been successfully added to the database.'"
      ]
     },
     "execution_count": 19,
     "metadata": {},
     "output_type": "execute_result"
    }
   ],
   "source": [
    "chain.invoke({\"question\": \"Add a new student named Jack Mumby with ID 10. Limit to only one query. Add None for empty columns\"})\n"
   ]
  },
  {
   "cell_type": "markdown",
   "id": "8b0e1235",
   "metadata": {},
   "source": [
    "## Question to add a new score for a student in a specific subject"
   ]
  },
  {
   "cell_type": "code",
   "execution_count": 20,
   "id": "f7b5a5b2",
   "metadata": {},
   "outputs": [
    {
     "data": {
      "text/plain": [
       "'The new score of 93 for Jack Mumby in Math has been successfully added to the database. The id for this record was autogenerated as one more than the largest id in the subject_scores table.'"
      ]
     },
     "execution_count": 20,
     "metadata": {},
     "output_type": "execute_result"
    }
   ],
   "source": [
    "chain.invoke({\"question\": \"Add a new score of 93 for Jack Mumby in Math. Autogenerate id as one more than the largest id.\"})\n"
   ]
  },
  {
   "cell_type": "markdown",
   "id": "82dc9b28",
   "metadata": {},
   "source": [
    "## Questions to rank students based on scores"
   ]
  },
  {
   "cell_type": "code",
   "execution_count": 29,
   "id": "3d231985",
   "metadata": {},
   "outputs": [
    {
     "data": {
      "text/plain": [
       "'The top students based on scores in Math in descending order are:\\n1. Adam Krebs with a score of 94.0\\n2. Jack Mumby with a score of 93.0\\n3. June Al with a score of 92.0\\n4. John Smith with a score of 90.0'"
      ]
     },
     "execution_count": 29,
     "metadata": {},
     "output_type": "execute_result"
    }
   ],
   "source": [
    "chain.invoke({\"question\": \"Who are the top students based on scores in Math in descending order. Limit to only one query\"})"
   ]
  },
  {
   "cell_type": "markdown",
   "id": "0c865cd3",
   "metadata": {},
   "source": [
    "## Question containing usupported operation, gracefully provide an error message."
   ]
  },
  {
   "cell_type": "code",
   "execution_count": 31,
   "id": "d0d8b6a3",
   "metadata": {},
   "outputs": [
    {
     "data": {
      "text/plain": [
       "'The system currently does not support the operation of deleting a specific score for a student in a particular subject. You may need to contact the system administrator or developer to see if this feature can be added in the future.'"
      ]
     },
     "execution_count": 31,
     "metadata": {},
     "output_type": "execute_result"
    }
   ],
   "source": [
    "chain.invoke({\"question\": \"Delete score of 95 for Kate Schlif in Physics.\"})"
   ]
  }
 ],
 "metadata": {
  "kernelspec": {
   "display_name": "Python 3 (ipykernel)",
   "language": "python",
   "name": "python3"
  },
  "language_info": {
   "codemirror_mode": {
    "name": "ipython",
    "version": 3
   },
   "file_extension": ".py",
   "mimetype": "text/x-python",
   "name": "python",
   "nbconvert_exporter": "python",
   "pygments_lexer": "ipython3",
   "version": "3.11.5"
  }
 },
 "nbformat": 4,
 "nbformat_minor": 5
}
